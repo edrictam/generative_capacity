{
  "nbformat": 4,
  "nbformat_minor": 0,
  "metadata": {
    "colab": {
      "provenance": [],
      "machine_shape": "hm"
    },
    "kernelspec": {
      "name": "python3",
      "display_name": "Python 3"
    },
    "language_info": {
      "name": "python"
    }
  },
  "cells": [
    {
      "cell_type": "code",
      "source": [
        "import numpy as np\n",
        "import scipy as sp\n",
        "\n",
        "# Set the random seed for reproducibility\n",
        "np.random.seed(0)\n",
        "\n",
        "# set scale and location matrix and number of samples\n",
        "location = np.array([0, 0])\n",
        "scale_matrix = np.array([[1, 0], [0, 1]])\n",
        "num_samples = 10000\n",
        "\n",
        "# draw samples (note that a multivariate cauchy is just a multivariate t with degree of freedom 1)\n",
        "cauchy_variable = sp.stats.multivariate_t(loc = location, shape = scale_matrix, df = 1)\n",
        "samples = cauchy_variable.rvs(num_samples)"
      ],
      "metadata": {
        "id": "RI_4py7c8_xi"
      },
      "execution_count": null,
      "outputs": []
    },
    {
      "cell_type": "code",
      "source": [
        "import torch\n",
        "import torch.nn as nn\n",
        "import torch.optim as optim\n",
        "import numpy as np\n",
        "import matplotlib.pyplot as plt\n",
        "\n",
        "# Define the generator network\n",
        "class Generator(nn.Module):\n",
        "    def __init__(self, latent_dim, output_dim):\n",
        "        super(Generator, self).__init__()\n",
        "        self.model = nn.Sequential(\n",
        "            nn.Linear(latent_dim, 128),\n",
        "            nn.ReLU(),\n",
        "            nn.Linear(128, 256),\n",
        "            nn.ReLU(),\n",
        "            nn.Linear(256, output_dim)\n",
        "        )\n",
        "\n",
        "    def forward(self, z):\n",
        "        return self.model(z)\n",
        "\n",
        "# Define the discriminator network\n",
        "class Discriminator(nn.Module):\n",
        "    def __init__(self, input_dim):\n",
        "        super(Discriminator, self).__init__()\n",
        "        self.model = nn.Sequential(\n",
        "            nn.Linear(input_dim, 256),\n",
        "            nn.ReLU(),\n",
        "            nn.Linear(256, 128),\n",
        "            nn.ReLU(),\n",
        "            nn.Linear(128, 1),\n",
        "            nn.Sigmoid()\n",
        "        )\n",
        "\n",
        "    def forward(self, x):\n",
        "        return self.model(x)\n",
        "\n",
        "# Hyperparameters\n",
        "latent_dim = 128\n",
        "output_dim = 2  # Output dimension of the Cauchy distribution (2D)\n",
        "num_epochs = 500\n",
        "batch_size = 100\n",
        "learning_rate = 0.0002\n",
        "\n",
        "# Initialize the networks and optimizers\n",
        "generator = Generator(latent_dim, output_dim)\n",
        "discriminator = Discriminator(output_dim)\n",
        "\n",
        "criterion = nn.BCELoss()\n",
        "optimizer_G = optim.Adam(generator.parameters(), lr=learning_rate)\n",
        "optimizer_D = optim.Adam(discriminator.parameters(), lr=learning_rate)\n",
        "\n",
        "\n",
        "# Training loop\n",
        "for epoch in range(num_epochs):\n",
        "    for i in range(0, len(samples), batch_size):\n",
        "        real_samples = torch.tensor(samples[i:i+batch_size], dtype=torch.float32)\n",
        "\n",
        "        # Train discriminator\n",
        "        optimizer_D.zero_grad()\n",
        "        real_labels = torch.ones(real_samples.size(0), 1)\n",
        "        real_output = discriminator(real_samples)\n",
        "        d_loss_real = criterion(real_output, real_labels)\n",
        "\n",
        "        z = torch.randn(batch_size, latent_dim)\n",
        "        fake_samples = generator(z)\n",
        "        fake_labels = torch.zeros(batch_size, 1)\n",
        "        fake_output = discriminator(fake_samples)\n",
        "        d_loss_fake = criterion(fake_output, fake_labels)\n",
        "\n",
        "        d_loss = d_loss_real + d_loss_fake\n",
        "        d_loss.backward()\n",
        "        optimizer_D.step()\n",
        "\n",
        "\n",
        "        # Train generator\n",
        "        optimizer_G.zero_grad()\n",
        "        z = torch.randn(batch_size, latent_dim)\n",
        "        fake_samples = generator(z)\n",
        "        output = discriminator(fake_samples)\n",
        "        g_loss = criterion(output, real_labels)\n",
        "        g_loss.backward()\n",
        "        optimizer_G.step()\n",
        "\n",
        "    if (epoch+1) % 10 == 0:\n",
        "        print(f\"Epoch [{epoch+1}/{num_epochs}], D Loss: {d_loss.item():.4f}, G Loss: {g_loss.item():.4f}\")\n",
        "\n",
        "\n"
      ],
      "metadata": {
        "colab": {
          "base_uri": "https://localhost:8080/"
        },
        "id": "voSt0kICzuk8",
        "outputId": "bab04434-902c-46d5-db50-5b5ba5b0a32e"
      },
      "execution_count": null,
      "outputs": [
        {
          "output_type": "stream",
          "name": "stdout",
          "text": [
            "Epoch [10/500], D Loss: 0.7766, G Loss: 1.2168\n",
            "Epoch [20/500], D Loss: 1.7111, G Loss: 1.1941\n",
            "Epoch [30/500], D Loss: 1.4848, G Loss: 1.4205\n",
            "Epoch [40/500], D Loss: 0.9847, G Loss: 1.1999\n",
            "Epoch [50/500], D Loss: 1.2533, G Loss: 0.8559\n",
            "Epoch [60/500], D Loss: 1.2899, G Loss: 0.7645\n",
            "Epoch [70/500], D Loss: 1.3135, G Loss: 0.7553\n",
            "Epoch [80/500], D Loss: 1.3276, G Loss: 0.7620\n",
            "Epoch [90/500], D Loss: 1.3545, G Loss: 0.8211\n",
            "Epoch [100/500], D Loss: 1.3579, G Loss: 0.7476\n",
            "Epoch [110/500], D Loss: 1.3589, G Loss: 0.7582\n",
            "Epoch [120/500], D Loss: 1.3725, G Loss: 0.7321\n",
            "Epoch [130/500], D Loss: 1.3950, G Loss: 0.7162\n",
            "Epoch [140/500], D Loss: 1.3639, G Loss: 0.7269\n",
            "Epoch [150/500], D Loss: 1.3728, G Loss: 0.7207\n",
            "Epoch [160/500], D Loss: 1.3578, G Loss: 0.7086\n",
            "Epoch [170/500], D Loss: 1.3747, G Loss: 0.7164\n",
            "Epoch [180/500], D Loss: 1.3596, G Loss: 0.7367\n",
            "Epoch [190/500], D Loss: 1.3662, G Loss: 0.7305\n",
            "Epoch [200/500], D Loss: 1.3612, G Loss: 0.7175\n",
            "Epoch [210/500], D Loss: 1.3767, G Loss: 0.7376\n",
            "Epoch [220/500], D Loss: 1.3774, G Loss: 0.7124\n",
            "Epoch [230/500], D Loss: 1.3738, G Loss: 0.7227\n",
            "Epoch [240/500], D Loss: 1.3656, G Loss: 0.6773\n",
            "Epoch [250/500], D Loss: 1.3821, G Loss: 0.7772\n",
            "Epoch [260/500], D Loss: 1.3715, G Loss: 0.7500\n",
            "Epoch [270/500], D Loss: 1.3646, G Loss: 0.7264\n",
            "Epoch [280/500], D Loss: 1.3650, G Loss: 0.7436\n",
            "Epoch [290/500], D Loss: 1.3669, G Loss: 0.7122\n",
            "Epoch [300/500], D Loss: 1.3809, G Loss: 0.7529\n",
            "Epoch [310/500], D Loss: 1.3463, G Loss: 0.7206\n",
            "Epoch [320/500], D Loss: 1.3720, G Loss: 0.7511\n",
            "Epoch [330/500], D Loss: 1.3647, G Loss: 0.7051\n",
            "Epoch [340/500], D Loss: 1.3755, G Loss: 0.7594\n",
            "Epoch [350/500], D Loss: 1.3866, G Loss: 0.7638\n",
            "Epoch [360/500], D Loss: 1.3708, G Loss: 0.7524\n",
            "Epoch [370/500], D Loss: 1.3704, G Loss: 0.7413\n",
            "Epoch [380/500], D Loss: 1.3739, G Loss: 0.7650\n",
            "Epoch [390/500], D Loss: 1.3721, G Loss: 0.7498\n",
            "Epoch [400/500], D Loss: 1.3636, G Loss: 0.7121\n",
            "Epoch [410/500], D Loss: 1.3693, G Loss: 0.7328\n",
            "Epoch [420/500], D Loss: 1.3761, G Loss: 0.7248\n",
            "Epoch [430/500], D Loss: 1.3688, G Loss: 0.7345\n",
            "Epoch [440/500], D Loss: 1.3717, G Loss: 0.7501\n",
            "Epoch [450/500], D Loss: 1.3708, G Loss: 0.7511\n",
            "Epoch [460/500], D Loss: 1.3595, G Loss: 0.7149\n",
            "Epoch [470/500], D Loss: 1.3710, G Loss: 0.6971\n",
            "Epoch [480/500], D Loss: 1.3725, G Loss: 0.6958\n",
            "Epoch [490/500], D Loss: 1.3732, G Loss: 0.7308\n",
            "Epoch [500/500], D Loss: 1.3694, G Loss: 0.7618\n"
          ]
        }
      ]
    },
    {
      "cell_type": "code",
      "source": [
        "np.random.seed(0)\n",
        "# Generate GAN samples\n",
        "num_gan_samples = 10000\n",
        "z = torch.randn(num_gan_samples, latent_dim)\n",
        "gan_samples = generator(z).detach().numpy()\n",
        "\n",
        "# Calculate limits for consistent axes\n",
        "min_x = min(np.min(samples[:, 0]), np.min(gan_samples[:, 0]))\n",
        "max_x = max(np.max(samples[:, 0]), np.max(gan_samples[:, 0]))\n",
        "min_y = min(np.min(samples[:, 1]), np.min(gan_samples[:, 1]))\n",
        "max_y = max(np.max(samples[:, 1]), np.max(gan_samples[:, 1]))\n",
        "\n",
        "\n",
        "# Create the scatter plots with consistent axes\n",
        "plt.figure(figsize=(5, 5))\n",
        "plt.scatter(samples[:, 0], samples[:, 1], s=7)\n",
        "plt.grid(True)\n",
        "plt.xlim(min_x, max_x)  # Set x-axis limits\n",
        "plt.ylim(min_y, max_y)  # Set y-axis limits\n",
        "plt.savefig('original_samples_wider.png')\n",
        "\n",
        "plt.figure(figsize=(5, 5))\n",
        "plt.scatter(gan_samples[:, 0], gan_samples[:, 1], s=7)\n",
        "plt.grid(True)\n",
        "plt.xlim(min_x, max_x)  # Set x-axis limits\n",
        "plt.ylim(min_y, max_y)  # Set y-axis limits\n",
        "plt.savefig('gan_samples_wider.png')\n",
        "\n",
        "plt.show()\n"
      ],
      "metadata": {
        "id": "a4rXvMGU6-LA",
        "colab": {
          "base_uri": "https://localhost:8080/",
          "height": 873
        },
        "outputId": "d4195013-ec81-42bb-a174-40f30f9902a8"
      },
      "execution_count": null,
      "outputs": [
        {
          "output_type": "display_data",
          "data": {
            "text/plain": [
              "<Figure size 500x500 with 1 Axes>"
            ],
            "image/png": "[encoded data removed]"
          },
          "metadata": {}
        },
        {
          "output_type": "display_data",
          "data": {
            "text/plain": [
              "<Figure size 500x500 with 1 Axes>"
            ],
            "image/png": "[encoded data removed]"
          },
          "metadata": {}
        }
      ]
    },
    {
      "cell_type": "code",
      "source": [],
      "metadata": {
        "id": "Aely-nEG_Q6h"
      },
      "execution_count": null,
      "outputs": []
    }
  ]
}