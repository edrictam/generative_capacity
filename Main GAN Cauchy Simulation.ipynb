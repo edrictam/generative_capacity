{
  "nbformat": 4,
  "nbformat_minor": 0,
  "metadata": {
    "colab": {
      "provenance": [],
      "machine_shape": "hm"
    },
    "kernelspec": {
      "name": "python3",
      "display_name": "Python 3"
    },
    "language_info": {
      "name": "python"
    }
  },
  "cells": [
    {
      "cell_type": "code",
      "source": [
        "import numpy as np\n",
        "import scipy as sp\n",
        "\n",
        "# Set the random seed for reproducibility\n",
        "np.random.seed(0)\n",
        "\n",
        "# set scale and location matrix and number of samples\n",
        "location = np.array([0, 0])\n",
        "scale_matrix = np.array([[1, 0], [0, 1]])\n",
        "num_samples = 10000\n",
        "\n",
        "# draw samples (note that a multivariate cauchy is just a multivariate t with degree of freedom 1)\n",
        "cauchy_variable = sp.stats.multivariate_t(loc = location, shape = scale_matrix, df = 1)\n",
        "samples = cauchy_variable.rvs(num_samples)"
      ],
      "metadata": {
        "id": "RI_4py7c8_xi"
      },
      "execution_count": null,
      "outputs": []
    },
    {
      "cell_type": "code",
      "source": [
        "import torch\n",
        "import torch.nn as nn\n",
        "import torch.optim as optim\n",
        "import numpy as np\n",
        "import matplotlib.pyplot as plt\n",
        "\n",
        "# Define the generator network\n",
        "class Generator(nn.Module):\n",
        "    def __init__(self, latent_dim, output_dim):\n",
        "        super(Generator, self).__init__()\n",
        "        self.model = nn.Sequential(\n",
        "            nn.Linear(latent_dim, 128),\n",
        "            nn.ReLU(),\n",
        "            nn.Linear(128, 256),\n",
        "            nn.ReLU(),\n",
        "            nn.Linear(256, output_dim)\n",
        "        )\n",
        "\n",
        "    def forward(self, z):\n",
        "        return self.model(z)\n",
        "\n",
        "# Define the discriminator network\n",
        "class Discriminator(nn.Module):\n",
        "    def __init__(self, input_dim):\n",
        "        super(Discriminator, self).__init__()\n",
        "        self.model = nn.Sequential(\n",
        "            nn.Linear(input_dim, 256),\n",
        "            nn.ReLU(),\n",
        "            nn.Linear(256, 128),\n",
        "            nn.ReLU(),\n",
        "            nn.Linear(128, 1),\n",
        "            nn.Sigmoid()\n",
        "        )\n",
        "\n",
        "    def forward(self, x):\n",
        "        return self.model(x)\n",
        "\n",
        "# Hyperparameters\n",
        "latent_dim = 64\n",
        "output_dim = 2  # Output dimension of the Cauchy distribution (2D)\n",
        "num_epochs = 500\n",
        "batch_size = 100\n",
        "learning_rate = 0.0002\n",
        "\n",
        "# Initialize the networks and optimizers\n",
        "generator = Generator(latent_dim, output_dim)\n",
        "discriminator = Discriminator(output_dim)\n",
        "\n",
        "criterion = nn.BCELoss()\n",
        "optimizer_G = optim.Adam(generator.parameters(), lr=learning_rate)\n",
        "optimizer_D = optim.Adam(discriminator.parameters(), lr=learning_rate)\n",
        "\n",
        "\n",
        "# Training loop\n",
        "for epoch in range(num_epochs):\n",
        "    for i in range(0, len(samples), batch_size):\n",
        "        real_samples = torch.tensor(samples[i:i+batch_size], dtype=torch.float32)\n",
        "\n",
        "        # Train discriminator\n",
        "        optimizer_D.zero_grad()\n",
        "        real_labels = torch.ones(real_samples.size(0), 1)\n",
        "        real_output = discriminator(real_samples)\n",
        "        d_loss_real = criterion(real_output, real_labels)\n",
        "\n",
        "        z = torch.randn(batch_size, latent_dim)\n",
        "        fake_samples = generator(z)\n",
        "        fake_labels = torch.zeros(batch_size, 1)\n",
        "        fake_output = discriminator(fake_samples)\n",
        "        d_loss_fake = criterion(fake_output, fake_labels)\n",
        "\n",
        "        d_loss = d_loss_real + d_loss_fake\n",
        "        d_loss.backward()\n",
        "        optimizer_D.step()\n",
        "\n",
        "\n",
        "        # Train generator\n",
        "        optimizer_G.zero_grad()\n",
        "        z = torch.randn(batch_size, latent_dim)\n",
        "        fake_samples = generator(z)\n",
        "        output = discriminator(fake_samples)\n",
        "        g_loss = criterion(output, real_labels)\n",
        "        g_loss.backward()\n",
        "        optimizer_G.step()\n",
        "\n",
        "    if (epoch+1) % 10 == 0:\n",
        "        print(f\"Epoch [{epoch+1}/{num_epochs}], D Loss: {d_loss.item():.4f}, G Loss: {g_loss.item():.4f}\")\n",
        "\n",
        "\n"
      ],
      "metadata": {
        "colab": {
          "base_uri": "https://localhost:8080/"
        },
        "id": "voSt0kICzuk8",
        "outputId": "103cc085-ad93-43cf-d183-d368db2a4172"
      },
      "execution_count": null,
      "outputs": [
        {
          "output_type": "stream",
          "name": "stdout",
          "text": [
            "Epoch [10/500], D Loss: 0.8871, G Loss: 1.1919\n",
            "Epoch [20/500], D Loss: 1.0609, G Loss: 1.4717\n",
            "Epoch [30/500], D Loss: 1.3309, G Loss: 1.7171\n",
            "Epoch [40/500], D Loss: 0.9166, G Loss: 1.7485\n",
            "Epoch [50/500], D Loss: 1.2719, G Loss: 0.9087\n",
            "Epoch [60/500], D Loss: 1.2693, G Loss: 0.7561\n",
            "Epoch [70/500], D Loss: 1.3332, G Loss: 0.7780\n",
            "Epoch [80/500], D Loss: 1.3517, G Loss: 0.7720\n",
            "Epoch [90/500], D Loss: 1.3873, G Loss: 0.7514\n",
            "Epoch [100/500], D Loss: 1.3536, G Loss: 0.7811\n",
            "Epoch [110/500], D Loss: 1.3747, G Loss: 0.7548\n",
            "Epoch [120/500], D Loss: 1.3673, G Loss: 0.7225\n",
            "Epoch [130/500], D Loss: 1.3597, G Loss: 0.7342\n",
            "Epoch [140/500], D Loss: 1.3600, G Loss: 0.7192\n",
            "Epoch [150/500], D Loss: 1.3711, G Loss: 0.7170\n",
            "Epoch [160/500], D Loss: 1.3509, G Loss: 0.7256\n",
            "Epoch [170/500], D Loss: 1.3494, G Loss: 0.7211\n",
            "Epoch [180/500], D Loss: 1.3537, G Loss: 0.6920\n",
            "Epoch [190/500], D Loss: 1.3601, G Loss: 0.7195\n",
            "Epoch [200/500], D Loss: 1.3694, G Loss: 0.7684\n",
            "Epoch [210/500], D Loss: 1.3863, G Loss: 0.7745\n",
            "Epoch [220/500], D Loss: 1.3658, G Loss: 0.6960\n",
            "Epoch [230/500], D Loss: 1.3568, G Loss: 0.7315\n",
            "Epoch [240/500], D Loss: 1.3701, G Loss: 0.7159\n",
            "Epoch [250/500], D Loss: 1.3815, G Loss: 0.7214\n",
            "Epoch [260/500], D Loss: 1.3679, G Loss: 0.7486\n",
            "Epoch [270/500], D Loss: 1.3772, G Loss: 0.7441\n",
            "Epoch [280/500], D Loss: 1.3566, G Loss: 0.6991\n",
            "Epoch [290/500], D Loss: 1.3754, G Loss: 0.7233\n",
            "Epoch [300/500], D Loss: 1.3605, G Loss: 0.7384\n",
            "Epoch [310/500], D Loss: 1.3595, G Loss: 0.7487\n",
            "Epoch [320/500], D Loss: 1.3572, G Loss: 0.7110\n",
            "Epoch [330/500], D Loss: 1.3627, G Loss: 0.6833\n",
            "Epoch [340/500], D Loss: 1.3794, G Loss: 0.7707\n",
            "Epoch [350/500], D Loss: 1.3674, G Loss: 0.7353\n",
            "Epoch [360/500], D Loss: 1.3783, G Loss: 0.6894\n",
            "Epoch [370/500], D Loss: 1.3732, G Loss: 0.7511\n",
            "Epoch [380/500], D Loss: 1.3670, G Loss: 0.7451\n",
            "Epoch [390/500], D Loss: 1.3607, G Loss: 0.6917\n",
            "Epoch [400/500], D Loss: 1.3798, G Loss: 0.7438\n",
            "Epoch [410/500], D Loss: 1.3763, G Loss: 0.7274\n",
            "Epoch [420/500], D Loss: 1.3650, G Loss: 0.7238\n",
            "Epoch [430/500], D Loss: 1.3716, G Loss: 0.7223\n",
            "Epoch [440/500], D Loss: 1.3667, G Loss: 0.7424\n",
            "Epoch [450/500], D Loss: 1.3692, G Loss: 0.7255\n",
            "Epoch [460/500], D Loss: 1.3690, G Loss: 0.7337\n",
            "Epoch [470/500], D Loss: 1.3649, G Loss: 0.7255\n",
            "Epoch [480/500], D Loss: 1.3636, G Loss: 0.7172\n",
            "Epoch [490/500], D Loss: 1.3694, G Loss: 0.6987\n",
            "Epoch [500/500], D Loss: 1.3833, G Loss: 0.7014\n"
          ]
        }
      ]
    },
    {
      "cell_type": "code",
      "source": [
        "np.random.seed(0)\n",
        "# Generate GAN samples\n",
        "num_gan_samples = 10000\n",
        "z = torch.randn(num_gan_samples, latent_dim)\n",
        "gan_samples = generator(z).detach().numpy()\n",
        "\n",
        "# Calculate limits for consistent axes\n",
        "min_x = min(np.min(samples[:, 0]), np.min(gan_samples[:, 0]))\n",
        "max_x = max(np.max(samples[:, 0]), np.max(gan_samples[:, 0]))\n",
        "min_y = min(np.min(samples[:, 1]), np.min(gan_samples[:, 1]))\n",
        "max_y = max(np.max(samples[:, 1]), np.max(gan_samples[:, 1]))\n",
        "\n",
        "\n",
        "# Create the scatter plots with consistent axes\n",
        "plt.figure(figsize=(5, 5))\n",
        "plt.scatter(samples[:, 0], samples[:, 1], s=7)\n",
        "plt.grid(True)\n",
        "plt.xlim(min_x, max_x)  # Set x-axis limits\n",
        "plt.ylim(min_y, max_y)  # Set y-axis limits\n",
        "plt.savefig('original_samples_standard.png')\n",
        "\n",
        "plt.figure(figsize=(5, 5))\n",
        "plt.scatter(gan_samples[:, 0], gan_samples[:, 1], s=7)\n",
        "plt.grid(True)\n",
        "plt.xlim(min_x, max_x)  # Set x-axis limits\n",
        "plt.ylim(min_y, max_y)  # Set y-axis limits\n",
        "plt.savefig('gan_samples_standard.png')\n",
        "\n",
        "plt.show()\n"
      ],
      "metadata": {
        "id": "a4rXvMGU6-LA",
        "colab": {
          "base_uri": "https://localhost:8080/",
          "height": 873
        },
        "outputId": "9ba8b91e-1151-4231-aa62-17e515fc17a1"
      },
      "execution_count": null,
      "outputs": [
        {
          "output_type": "display_data",
          "data": {
            "text/plain": [
              "<Figure size 500x500 with 1 Axes>"
            ],
            "image/png": "[encoded data removed]"
          },
          "metadata": {}
        },
        {
          "output_type": "display_data",
          "data": {
            "text/plain": [
              "<Figure size 500x500 with 1 Axes>"
            ],
            "image/png": "[encoded data removed]"
          },
          "metadata": {}
        }
      ]
    },
    {
      "cell_type": "code",
      "source": [],
      "metadata": {
        "id": "Aely-nEG_Q6h"
      },
      "execution_count": null,
      "outputs": []
    }
  ]
}