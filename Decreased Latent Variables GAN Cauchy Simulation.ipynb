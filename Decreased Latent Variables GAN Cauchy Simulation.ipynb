{
  "nbformat": 4,
  "nbformat_minor": 0,
  "metadata": {
    "colab": {
      "provenance": [],
      "machine_shape": "hm"
    },
    "kernelspec": {
      "name": "python3",
      "display_name": "Python 3"
    },
    "language_info": {
      "name": "python"
    }
  },
  "cells": [
    {
      "cell_type": "code",
      "source": [
        "import numpy as np\n",
        "import scipy as sp\n",
        "\n",
        "# Set the random seed for reproducibility\n",
        "np.random.seed(0)\n",
        "\n",
        "# set scale and location matrix and number of samples\n",
        "location = np.array([0, 0])\n",
        "scale_matrix = np.array([[1, 0], [0, 1]])\n",
        "num_samples = 10000\n",
        "\n",
        "# draw samples (note that a multivariate cauchy is just a multivariate t with degree of freedom 1)\n",
        "cauchy_variable = sp.stats.multivariate_t(loc = location, shape = scale_matrix, df = 1)\n",
        "samples = cauchy_variable.rvs(num_samples)"
      ],
      "metadata": {
        "id": "RI_4py7c8_xi"
      },
      "execution_count": null,
      "outputs": []
    },
    {
      "cell_type": "code",
      "source": [
        "import torch\n",
        "import torch.nn as nn\n",
        "import torch.optim as optim\n",
        "import numpy as np\n",
        "import matplotlib.pyplot as plt\n",
        "\n",
        "# Define the generator network\n",
        "class Generator(nn.Module):\n",
        "    def __init__(self, latent_dim, output_dim):\n",
        "        super(Generator, self).__init__()\n",
        "        self.model = nn.Sequential(\n",
        "            nn.Linear(latent_dim, 128),\n",
        "            nn.ReLU(),\n",
        "            nn.Linear(128, 256),\n",
        "            nn.ReLU(),\n",
        "            nn.Linear(256, output_dim)\n",
        "        )\n",
        "\n",
        "    def forward(self, z):\n",
        "        return self.model(z)\n",
        "\n",
        "# Define the discriminator network\n",
        "class Discriminator(nn.Module):\n",
        "    def __init__(self, input_dim):\n",
        "        super(Discriminator, self).__init__()\n",
        "        self.model = nn.Sequential(\n",
        "            nn.Linear(input_dim, 256),\n",
        "            nn.ReLU(),\n",
        "            nn.Linear(256, 128),\n",
        "            nn.ReLU(),\n",
        "            nn.Linear(128, 1),\n",
        "            nn.Sigmoid()\n",
        "        )\n",
        "\n",
        "    def forward(self, x):\n",
        "        return self.model(x)\n",
        "\n",
        "# Hyperparameters\n",
        "latent_dim = 32\n",
        "output_dim = 2  # Output dimension of the Cauchy distribution (2D)\n",
        "num_epochs = 500\n",
        "batch_size = 100\n",
        "learning_rate = 0.0002\n",
        "\n",
        "# Initialize the networks and optimizers\n",
        "generator = Generator(latent_dim, output_dim)\n",
        "discriminator = Discriminator(output_dim)\n",
        "\n",
        "criterion = nn.BCELoss()\n",
        "optimizer_G = optim.Adam(generator.parameters(), lr=learning_rate)\n",
        "optimizer_D = optim.Adam(discriminator.parameters(), lr=learning_rate)\n",
        "\n",
        "\n",
        "# Training loop\n",
        "for epoch in range(num_epochs):\n",
        "    for i in range(0, len(samples), batch_size):\n",
        "        real_samples = torch.tensor(samples[i:i+batch_size], dtype=torch.float32)\n",
        "\n",
        "        # Train discriminator\n",
        "        optimizer_D.zero_grad()\n",
        "        real_labels = torch.ones(real_samples.size(0), 1)\n",
        "        real_output = discriminator(real_samples)\n",
        "        d_loss_real = criterion(real_output, real_labels)\n",
        "\n",
        "        z = torch.randn(batch_size, latent_dim)\n",
        "        fake_samples = generator(z)\n",
        "        fake_labels = torch.zeros(batch_size, 1)\n",
        "        fake_output = discriminator(fake_samples)\n",
        "        d_loss_fake = criterion(fake_output, fake_labels)\n",
        "\n",
        "        d_loss = d_loss_real + d_loss_fake\n",
        "        d_loss.backward()\n",
        "        optimizer_D.step()\n",
        "\n",
        "\n",
        "        # Train generator\n",
        "        optimizer_G.zero_grad()\n",
        "        z = torch.randn(batch_size, latent_dim)\n",
        "        fake_samples = generator(z)\n",
        "        output = discriminator(fake_samples)\n",
        "        g_loss = criterion(output, real_labels)\n",
        "        g_loss.backward()\n",
        "        optimizer_G.step()\n",
        "\n",
        "    if (epoch+1) % 10 == 0:\n",
        "        print(f\"Epoch [{epoch+1}/{num_epochs}], D Loss: {d_loss.item():.4f}, G Loss: {g_loss.item():.4f}\")\n",
        "\n",
        "\n"
      ],
      "metadata": {
        "colab": {
          "base_uri": "https://localhost:8080/"
        },
        "id": "voSt0kICzuk8",
        "outputId": "65dd7a8c-9998-4ce7-8a63-bbd596a4b09d"
      },
      "execution_count": null,
      "outputs": [
        {
          "output_type": "stream",
          "name": "stdout",
          "text": [
            "Epoch [10/500], D Loss: 0.8176, G Loss: 1.2048\n",
            "Epoch [20/500], D Loss: 1.0536, G Loss: 0.8861\n",
            "Epoch [30/500], D Loss: 0.9647, G Loss: 1.0539\n",
            "Epoch [40/500], D Loss: 1.2464, G Loss: 0.8721\n",
            "Epoch [50/500], D Loss: 1.3242, G Loss: 0.8247\n",
            "Epoch [60/500], D Loss: 1.3099, G Loss: 0.7670\n",
            "Epoch [70/500], D Loss: 1.3344, G Loss: 0.7251\n",
            "Epoch [80/500], D Loss: 1.3497, G Loss: 0.7797\n",
            "Epoch [90/500], D Loss: 1.3734, G Loss: 0.7662\n",
            "Epoch [100/500], D Loss: 1.3761, G Loss: 0.7711\n",
            "Epoch [110/500], D Loss: 1.3604, G Loss: 0.7474\n",
            "Epoch [120/500], D Loss: 1.3885, G Loss: 0.7706\n",
            "Epoch [130/500], D Loss: 1.3731, G Loss: 0.7387\n",
            "Epoch [140/500], D Loss: 1.3457, G Loss: 0.7378\n",
            "Epoch [150/500], D Loss: 1.3813, G Loss: 0.7310\n",
            "Epoch [160/500], D Loss: 1.3691, G Loss: 0.7577\n",
            "Epoch [170/500], D Loss: 1.3605, G Loss: 0.8006\n",
            "Epoch [180/500], D Loss: 1.3672, G Loss: 0.7560\n",
            "Epoch [190/500], D Loss: 1.3436, G Loss: 0.7581\n",
            "Epoch [200/500], D Loss: 1.3735, G Loss: 0.7452\n",
            "Epoch [210/500], D Loss: 1.3529, G Loss: 0.7651\n",
            "Epoch [220/500], D Loss: 1.3701, G Loss: 0.7398\n",
            "Epoch [230/500], D Loss: 1.3731, G Loss: 0.7253\n",
            "Epoch [240/500], D Loss: 1.3535, G Loss: 0.7494\n",
            "Epoch [250/500], D Loss: 1.3634, G Loss: 0.7431\n",
            "Epoch [260/500], D Loss: 1.3576, G Loss: 0.7372\n",
            "Epoch [270/500], D Loss: 1.3702, G Loss: 0.7325\n",
            "Epoch [280/500], D Loss: 1.3801, G Loss: 0.7576\n",
            "Epoch [290/500], D Loss: 1.3842, G Loss: 0.7246\n",
            "Epoch [300/500], D Loss: 1.3568, G Loss: 0.7138\n",
            "Epoch [310/500], D Loss: 1.3669, G Loss: 0.6921\n",
            "Epoch [320/500], D Loss: 1.3790, G Loss: 0.7252\n",
            "Epoch [330/500], D Loss: 1.3578, G Loss: 0.7275\n",
            "Epoch [340/500], D Loss: 1.3691, G Loss: 0.7152\n",
            "Epoch [350/500], D Loss: 1.3686, G Loss: 0.6966\n",
            "Epoch [360/500], D Loss: 1.3693, G Loss: 0.7066\n",
            "Epoch [370/500], D Loss: 1.3722, G Loss: 0.7030\n",
            "Epoch [380/500], D Loss: 1.3777, G Loss: 0.7217\n",
            "Epoch [390/500], D Loss: 1.3632, G Loss: 0.6876\n",
            "Epoch [400/500], D Loss: 1.3690, G Loss: 0.7220\n",
            "Epoch [410/500], D Loss: 1.3624, G Loss: 0.7139\n",
            "Epoch [420/500], D Loss: 1.3982, G Loss: 0.7135\n",
            "Epoch [430/500], D Loss: 1.3763, G Loss: 0.7100\n",
            "Epoch [440/500], D Loss: 1.3682, G Loss: 0.6972\n",
            "Epoch [450/500], D Loss: 1.3802, G Loss: 0.7008\n",
            "Epoch [460/500], D Loss: 1.3752, G Loss: 0.6934\n",
            "Epoch [470/500], D Loss: 1.3644, G Loss: 0.7140\n",
            "Epoch [480/500], D Loss: 1.3673, G Loss: 0.7216\n",
            "Epoch [490/500], D Loss: 1.3634, G Loss: 0.6958\n",
            "Epoch [500/500], D Loss: 1.3730, G Loss: 0.7118\n"
          ]
        }
      ]
    },
    {
      "cell_type": "code",
      "source": [
        "np.random.seed(0)\n",
        "# Generate GAN samples\n",
        "num_gan_samples = 10000\n",
        "z = torch.randn(num_gan_samples, latent_dim)\n",
        "gan_samples = generator(z).detach().numpy()\n",
        "\n",
        "# Calculate limits for consistent axes\n",
        "min_x = min(np.min(samples[:, 0]), np.min(gan_samples[:, 0]))\n",
        "max_x = max(np.max(samples[:, 0]), np.max(gan_samples[:, 0]))\n",
        "min_y = min(np.min(samples[:, 1]), np.min(gan_samples[:, 1]))\n",
        "max_y = max(np.max(samples[:, 1]), np.max(gan_samples[:, 1]))\n",
        "\n",
        "\n",
        "# Create the scatter plots with consistent axes\n",
        "plt.figure(figsize=(5, 5))\n",
        "plt.scatter(samples[:, 0], samples[:, 1], s=7)\n",
        "plt.grid(True)\n",
        "plt.xlim(min_x, max_x)  # Set x-axis limits\n",
        "plt.ylim(min_y, max_y)  # Set y-axis limits\n",
        "plt.savefig('original_samples_narrower.png')\n",
        "\n",
        "plt.figure(figsize=(5, 5))\n",
        "plt.scatter(gan_samples[:, 0], gan_samples[:, 1], s=7)\n",
        "plt.grid(True)\n",
        "plt.xlim(min_x, max_x)  # Set x-axis limits\n",
        "plt.ylim(min_y, max_y)  # Set y-axis limits\n",
        "plt.savefig('gan_samples_narrower.png')\n",
        "\n",
        "plt.show()\n"
      ],
      "metadata": {
        "id": "a4rXvMGU6-LA",
        "colab": {
          "base_uri": "https://localhost:8080/",
          "height": 873
        },
        "outputId": "a48e94ff-bbb5-426b-edf6-79a313b7e5b1"
      },
      "execution_count": null,
      "outputs": [
        {
          "output_type": "display_data",
          "data": {
            "text/plain": [
              "<Figure size 500x500 with 1 Axes>"
            ],
            "image/png": "[encoded data removed]"
          },
          "metadata": {}
        },
        {
          "output_type": "display_data",
          "data": {
            "text/plain": [
              "<Figure size 500x500 with 1 Axes>"
            ],
            "image/png": "[encoded data removed]"
          },
          "metadata": {}
        }
      ]
    },
    {
      "cell_type": "code",
      "source": [],
      "metadata": {
        "id": "Aely-nEG_Q6h"
      },
      "execution_count": null,
      "outputs": []
    }
  ]
}